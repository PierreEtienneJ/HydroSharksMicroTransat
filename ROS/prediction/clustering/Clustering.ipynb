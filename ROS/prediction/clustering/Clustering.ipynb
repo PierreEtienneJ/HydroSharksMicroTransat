{
 "cells": [
  {
   "cell_type": "code",
   "execution_count": 1,
   "metadata": {},
   "outputs": [],
   "source": [
    "import pandas as pd\n",
    "import random\n",
    "import math\n",
    "\n",
    "def minId(L) :\n",
    "    m = 0\n",
    "    for i in renage(len(L)) :\n",
    "        if L[i] < L[m] :\n",
    "            m = i\n",
    "    return m"
   ]
  },
  {
   "cell_type": "code",
   "execution_count": 2,
   "metadata": {},
   "outputs": [
    {
     "output_type": "error",
     "ename": "SyntaxError",
     "evalue": "invalid syntax (<ipython-input-2-afcb6df85343>, line 39)",
     "traceback": [
      "\u001b[0;36m  File \u001b[0;32m\"<ipython-input-2-afcb6df85343>\"\u001b[0;36m, line \u001b[0;32m39\u001b[0m\n\u001b[0;31m    for i in range len(DB) :   #calcul des distance à chaque centre\u001b[0m\n\u001b[0m                     ^\u001b[0m\n\u001b[0;31mSyntaxError\u001b[0m\u001b[0;31m:\u001b[0m invalid syntax\n"
     ]
    }
   ],
   "source": [
    "#Clustering n centres\n",
    "\n",
    "\n",
    "n=5  #nombre de centres\n",
    "\n",
    "\n",
    "# Initialisation\n",
    "proxi = [[] for i in range(n)] #liste des points proches\n",
    "coord = [[]for i in range(n)] #coordonées des centres\n",
    "\n",
    "for i in range(n) :\n",
    "    coord[i][0] = 40*random.random() #windSpd\n",
    "    coord[i][1] = 360*random.random()-180 #windDir\n",
    "    coord[i][2] = 1/((50-1)*random.random()+1) #swellFreq\n",
    "    coord[i][3] = 10*random.random() #swellAmp           \n",
    "    coord[i][4] = 360*random.random()-180 #swellDir\n",
    "    coord[i][5] = 2*random.random() #streamSpd\n",
    "    coord[i][6] = 360*random.random()-180 #streamDir\n",
    "    coord[i][7] = (25-5)*random.random()+5 #airT\n",
    "    coord[i][8] = (90-30)*random.random()+30 #airP\n",
    "    coord[i][9] = 10*np.random.randn()+1000 #airH\n",
    "    coord[i][10] = (15-5)*random.random()+5 #WaterT\n",
    "    coord[i][11] = 0.2*np.random.randn()+30 #waterS\n",
    "    coord[i][12] = 24*random.random() #time\n",
    "    #coord[i][13] = #sunUV\n",
    "    #coord[i][14] = #sunLux\n",
    "    #coord[i][15] = #sunOcta\n",
    "    #coord[i][16] = #spd\n",
    "    #coord[i][17] = #drift\n",
    "    #coord[i][18] = #consumption\n",
    "    #coord[i][19] = #roll\n",
    "    #coord[i][20] = #production\n",
    "\n",
    "    \n",
    "    \n",
    "\n",
    "for z in range (20) :   #Nombre de tours avant de considéreer les n-centres placés\n",
    "    proxi = [[] for i in range(n)]\n",
    "    for i in range len(DB) :   #calcul des distance à chaque centre\n",
    "        dist = []\n",
    "        L = DB.iloc[i,:]\n",
    "        for k in range(n) :\n",
    "            s=0\n",
    "            for j in [0,1,2,3,4,5,6,7,8,9,10,11,13,14,15] :\n",
    "                s = s + (L[j]-coord[k][j])**2*\n",
    "            dist.append(s)\n",
    "        proxi[minId(dist)].append(i)    #le point est ajouté a la liste des proxi du centre concerné\n",
    "\n",
    "    for i in range(n)    # on réajuste la position des n-centres\n",
    "        for k in [0,1,2,3,4,5,6,7,8,9,10,11,13,14,15] :\n",
    "            s = 0\n",
    "            for j in proxi[i] :\n",
    "                L = DB.iloc[j,:]\n",
    "                s = L[k] + s     #moyennes des position des proxis d'un même centre\n",
    "            s = s/len(proxi[i])\n",
    "            coord[i][k] = s     #on déplace le centre a sa nouvelle place et on recommence\n",
    "\n",
    ""
   ]
  },
  {
   "cell_type": "code",
   "execution_count": null,
   "metadata": {},
   "outputs": [],
   "source": [
    "DB = pd.read_csv(\"simulateGenData.csv\",delimiter=\",\")\n",
    "print(DB.iloc[2,:])"
   ]
  },
  {
   "cell_type": "code",
   "execution_count": null,
   "metadata": {},
   "outputs": [],
   "source": [
    "#Clustering borders       /!\\ Compléxité en 3xlen(DB)²\n",
    "\n",
    "D = 5 #écart considéré\n",
    "V = 4 #nombres de voisins pour etre eun noyou\n",
    "\n",
    "core = []\n",
    "borders = []\n",
    "alone = []\n",
    "\n",
    "for i in range(len(DB)) :\n",
    "    pt = DB.iloc[i,:]\n",
    "    for j in range len(DB) :\n",
    "        pt2 = DB.iloc[j,:]\n",
    "        d=0\n",
    "        v=0\n",
    "        for k in [0,1,2,3,4,5,6,7,8,9,10,11,13,14,15] :\n",
    "            d = d + (pt[k]-pt2[k])**2\n",
    "        d = sqrt(d)\n",
    "        if d <= D :\n",
    "            v += 1\n",
    "    if v >= V :\n",
    "        core.append(i)\n",
    "\n",
    "for i in range(len(DB)) :\n",
    "    if not(i in core) :\n",
    "        pt = DB.iloc[i,:]\n",
    "        for j in core :\n",
    "            pt2 = DB.iloc[j,:]\n",
    "            d=0\n",
    "            for k in [0,1,2,3,4,5,6,7,8,9,10,11,13,14,15] :\n",
    "                d = d + (pt[k]-pt2[k])**2\n",
    "            d = sqrt(d)\n",
    "        if d <= 5 :\n",
    "            border.append(i)\n",
    "        else :\n",
    "            alone.append(i)\n",
    "    else :\n",
    "        pass\n",
    "            \n",
    "            \n",
    "            "
   ]
  }
 ],
 "metadata": {
  "kernelspec": {
   "display_name": "Python 3",
   "language": "python",
   "name": "python3"
  },
  "language_info": {
   "codemirror_mode": {
    "name": "ipython",
    "version": 3
   },
   "file_extension": ".py",
   "mimetype": "text/x-python",
   "name": "python",
   "nbconvert_exporter": "python",
   "pygments_lexer": "ipython3",
   "version": "3.6.9-final"
  }
 },
 "nbformat": 4,
 "nbformat_minor": 2
}